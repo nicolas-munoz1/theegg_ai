{
 "cells": [
  {
   "cell_type": "code",
   "execution_count": null,
   "id": "198b6b44",
   "metadata": {},
   "outputs": [],
   "source": [
    "a=input(\"a= \");\n",
    "b=input(\"b= \");\n",
    "c=input(\"c= \");\n",
    "\n",
    "if a>b and a>c:\n",
    "\n",
    "    print(\"El mayor es a\")\n",
    "    \n",
    "elif b>a and b>c:\n",
    "\n",
    "    print(\"El mayor es b\")\n",
    "\n",
    "elif c>a and c>b:\n",
    "\n",
    "    print(\"El mayor es c\")\n"
   ]
  },
  {
   "cell_type": "code",
   "execution_count": null,
   "id": "316990ef",
   "metadata": {},
   "outputs": [],
   "source": [
    "print(\"Tu frase tiene \" + str(len(input(\"Escribe una frase: \"))) + \" caracteres\")"
   ]
  },
  {
   "cell_type": "code",
   "execution_count": null,
   "id": "46b72054",
   "metadata": {},
   "outputs": [],
   "source": [
    "vocal = input(\"Introduce una letra: \")\n",
    "\n",
    "if vocal == \"a\" or vocal == \"e\" or vocal == \"i\" or vocal == \"o\" or vocal == \"u\":\n",
    "    \n",
    "    print(\"Tu letra es una vocal\")\n",
    "    \n",
    "else:\n",
    "    \n",
    "    print(\"Tu letra es una consontante\")"
   ]
  },
  {
   "cell_type": "code",
   "execution_count": null,
   "id": "f94bc8fa",
   "metadata": {},
   "outputs": [],
   "source": [
    "notas= [1,4,6,8,4,6,0,2,3,6,10,2,9]\n",
    "\n",
    "sum_notas=0\n",
    "\n",
    "for nota in notas:\n",
    "    sum_notas += nota\n",
    "    \n",
    "print(sum_notas)"
   ]
  },
  {
   "cell_type": "code",
   "execution_count": null,
   "id": "2bb45977",
   "metadata": {},
   "outputs": [],
   "source": [
    "word= input(\"Introduce una palabra: \")\n",
    "\n",
    "#Recorremos las letras de la palabra en orden inverso y las comparamos con la palabra original:\n",
    "if word[-1::-1] == word:\n",
    "\n",
    "    print(\"Sí es un palindromo\")\n",
    "    \n",
    "else:\n",
    "    \n",
    "    print(\"No es un palindromo\")"
   ]
  },
  {
   "cell_type": "code",
   "execution_count": null,
   "id": "42c6e244",
   "metadata": {},
   "outputs": [],
   "source": [
    "list1 = []\n",
    "list2 = []\n",
    "n = int(input(\"Introduce numero de elementos de la lista: \"))\n",
    "\n",
    "#Añadimos los elementos a la lista 1:\n",
    "print(\"LISTA 1: \")\n",
    "for i in range(0, n):\n",
    "    \n",
    "    element = int(input())\n",
    "    list1.append(element) \n",
    "    \n",
    "#Añadimos los elementos a la lista 2:\n",
    "print(\"LISTA 2: \")\n",
    "for i in range(0, n):\n",
    "   \n",
    "    element = int(input())\n",
    "    list2.append(element) \n",
    "    \n",
    "    \n",
    "#Comprobamos, mediante bucles anidados, los valores de cada lista.\n",
    "#Recorremos la primera lista y comparamos cada valor con todos los de la siguiente lista.\n",
    "for a in list1:\n",
    "    \n",
    "    for b in list2:\n",
    "        \n",
    "        if b == a:\n",
    "            \n",
    "            print(\"El valor \" + str(b) + \" coincide\")\n",
    "      "
   ]
  }
 ],
 "metadata": {
  "kernelspec": {
   "display_name": "Python 3",
   "language": "python",
   "name": "python3"
  },
  "language_info": {
   "codemirror_mode": {
    "name": "ipython",
    "version": 3
   },
   "file_extension": ".py",
   "mimetype": "text/x-python",
   "name": "python",
   "nbconvert_exporter": "python",
   "pygments_lexer": "ipython3",
   "version": "3.8.8"
  }
 },
 "nbformat": 4,
 "nbformat_minor": 5
}
