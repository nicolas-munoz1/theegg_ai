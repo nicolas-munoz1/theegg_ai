{
 "cells": [
  {
   "cell_type": "code",
   "execution_count": null,
   "id": "18542cf3",
   "metadata": {},
   "outputs": [],
   "source": [
    "lado = int(input (\"Introduce el lado del cuadrado: \"))\n",
    "area = lado*lado\n",
    "print(\"La superficice del cuadrado es \" + str(area) + \" m2\")"
   ]
  },
  {
   "cell_type": "code",
   "execution_count": null,
   "id": "b1150aa1",
   "metadata": {},
   "outputs": [],
   "source": []
  }
 ],
 "metadata": {
  "kernelspec": {
   "display_name": "Python 3",
   "language": "python",
   "name": "python3"
  },
  "language_info": {
   "codemirror_mode": {
    "name": "ipython",
    "version": 3
   },
   "file_extension": ".py",
   "mimetype": "text/x-python",
   "name": "python",
   "nbconvert_exporter": "python",
   "pygments_lexer": "ipython3",
   "version": "3.8.8"
  }
 },
 "nbformat": 4,
 "nbformat_minor": 5
}
