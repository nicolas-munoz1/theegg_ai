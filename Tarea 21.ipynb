{
 "cells": [
  {
   "cell_type": "code",
   "execution_count": null,
   "id": "8582ae4d",
   "metadata": {},
   "outputs": [
    {
     "name": "stdout",
     "output_type": "stream",
     "text": [
      "0.99999\n",
      "Error! Por favor, introduzca un número con un máximo de cuatro decimales\n",
      "ERROR! Número entre 0 y 1 con un máximo de cuatro decimales\n"
     ]
    }
   ],
   "source": [
    "#Author: Nicolas Muñoz Monreal\n",
    "\n",
    "#Se pide un número entre 0.0001 y 0.9999, de cuatro decimales como máximo.\n",
    "#Si no cumple las condiciones, se debe introducir otro número hasta que se cumplan (bucle while).\n",
    "#Input introducido por el usuario es float, valor decimal.\n",
    "\n",
    "x= float(input());\n",
    "\n",
    "while float(x)<=0.0001 or float(x)>=0.9999 or float(x)*10000 != int(float(x)*10000):\n",
    "\n",
    "    if (float(x)<=0.0001 or float(x)>=0.9999) and (float(x)*10000 == int(float(x)*10000)):\n",
    "\n",
    "        print(\"Error! Por favor introduzca un número entre 0 y 1\");\n",
    "\n",
    "    if (float(x)*10000 != int(float(x)*10000)) and (float(x)>0.0001 or float(x)<0.9999):\n",
    "\n",
    "        print(\"Error! Por favor, introduzca un número con un máximo de cuatro decimales\");\n",
    "        \n",
    "    if (float(x)*10000 != int(float(x)*10000)) and (float(x)<0.0001 or float(x)>0.999999999):\n",
    "\n",
    "        print(\"ERROR! Número entre 0 y 1 con un máximo de cuatro decimales\");\n",
    "    \n",
    "    x=float(input());\n",
    "    \n",
    "#Conversión del input decimal a un número entero para facilitar la división entera\n",
    "\n",
    "num_   = x*10000\n",
    "denom_ = 10000\n",
    "\n",
    "#Operaciones para encontrar la fracción irreducible: el numerador y el denominador de la fracción son ambos divisibles por el mismo número divisor <d>\n",
    "\n",
    "d=2\n",
    "\n",
    "while d<10000:\n",
    "    while num_/d==int(num_/d) and denom_/d==int(denom_/d):\n",
    "        num_=num_/d\n",
    "        denom_=denom_/d\n",
    "    d=d+1;\n",
    "\n",
    "print(\"La fracción irreducible de su número es \", int(num_),\"/\", int(denom_));"
   ]
  },
  {
   "cell_type": "code",
   "execution_count": null,
   "id": "fbf9d4b1",
   "metadata": {},
   "outputs": [],
   "source": []
  }
 ],
 "metadata": {
  "kernelspec": {
   "display_name": "Python 3",
   "language": "python",
   "name": "python3"
  },
  "language_info": {
   "codemirror_mode": {
    "name": "ipython",
    "version": 3
   },
   "file_extension": ".py",
   "mimetype": "text/x-python",
   "name": "python",
   "nbconvert_exporter": "python",
   "pygments_lexer": "ipython3",
   "version": "3.8.8"
  }
 },
 "nbformat": 4,
 "nbformat_minor": 5
}
